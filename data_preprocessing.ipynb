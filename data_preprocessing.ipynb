{
 "cells": [
  {
   "cell_type": "code",
   "execution_count": 1,
   "metadata": {},
   "outputs": [],
   "source": [
    "from bs4 import BeautifulSoup\n",
    "import requests\n",
    "import re\n",
    "import pandas as pd\n",
    "from time import *\n",
    "from random import randint\n",
    "import time\n",
    "import json\n",
    "import matplotlib.pyplot as plt\n",
    "import config_file\n",
    "from ast import literal_eval\n",
    "from functools import partial, reduce\n",
    "import nltk\n",
    "from nltk.corpus import stopwords\n",
    "import string\n",
    "from sklearn.feature_extraction.text import CountVectorizer, TfidfVectorizer\n",
    "from sklearn.metrics.pairwise import cosine_similarity\n",
    "from nltk.stem.snowball import SnowballStemmer\n",
    "from nltk.stem.wordnet import WordNetLemmatizer\n",
    "from nltk.corpus import wordnet\n",
    "\n",
    "stemmer = SnowballStemmer('english')\n",
    "\n",
    "api_key = config_file.tmdb_api_key"
   ]
  },
  {
   "cell_type": "markdown",
   "metadata": {},
   "source": [
    "## 1. Metadata"
   ]
  },
  {
   "cell_type": "code",
   "execution_count": 2,
   "metadata": {},
   "outputs": [
    {
     "data": {
      "text/html": [
       "<div>\n",
       "<style scoped>\n",
       "    .dataframe tbody tr th:only-of-type {\n",
       "        vertical-align: middle;\n",
       "    }\n",
       "\n",
       "    .dataframe tbody tr th {\n",
       "        vertical-align: top;\n",
       "    }\n",
       "\n",
       "    .dataframe thead th {\n",
       "        text-align: right;\n",
       "    }\n",
       "</style>\n",
       "<table border=\"1\" class=\"dataframe\">\n",
       "  <thead>\n",
       "    <tr style=\"text-align: right;\">\n",
       "      <th></th>\n",
       "      <th>adult</th>\n",
       "      <th>backdrop_path</th>\n",
       "      <th>belongs_to_collection</th>\n",
       "      <th>budget</th>\n",
       "      <th>genres</th>\n",
       "      <th>homepage</th>\n",
       "      <th>id</th>\n",
       "      <th>imdb_id</th>\n",
       "      <th>original_language</th>\n",
       "      <th>original_title</th>\n",
       "      <th>...</th>\n",
       "      <th>release_date</th>\n",
       "      <th>revenue</th>\n",
       "      <th>runtime</th>\n",
       "      <th>spoken_languages</th>\n",
       "      <th>status</th>\n",
       "      <th>tagline</th>\n",
       "      <th>title</th>\n",
       "      <th>video</th>\n",
       "      <th>vote_average</th>\n",
       "      <th>vote_count</th>\n",
       "    </tr>\n",
       "  </thead>\n",
       "  <tbody>\n",
       "    <tr>\n",
       "      <th>0</th>\n",
       "      <td>False</td>\n",
       "      <td>/g4EccIilvUXEGDLcGozUbodgtvn.jpg</td>\n",
       "      <td>NaN</td>\n",
       "      <td>0</td>\n",
       "      <td>[{'id': 9648, 'name': 'Mystery'}, {'id': 28, '...</td>\n",
       "      <td>https://hombalefilms.com/movies/kantara/</td>\n",
       "      <td>858485</td>\n",
       "      <td>tt15327088</td>\n",
       "      <td>kn</td>\n",
       "      <td>ಕಾಂತಾರ</td>\n",
       "      <td>...</td>\n",
       "      <td>2022-09-30</td>\n",
       "      <td>0</td>\n",
       "      <td>150</td>\n",
       "      <td>[{'english_name': 'Kannada', 'iso_639_1': 'kn'...</td>\n",
       "      <td>Released</td>\n",
       "      <td>A Legend</td>\n",
       "      <td>Kantara</td>\n",
       "      <td>False</td>\n",
       "      <td>8.400</td>\n",
       "      <td>10</td>\n",
       "    </tr>\n",
       "    <tr>\n",
       "      <th>1</th>\n",
       "      <td>False</td>\n",
       "      <td>/kXfqcdQKsToO0OUXHcrrNCHDBzO.jpg</td>\n",
       "      <td>NaN</td>\n",
       "      <td>25000000</td>\n",
       "      <td>[{'id': 18, 'name': 'Drama'}, {'id': 80, 'name...</td>\n",
       "      <td>NaN</td>\n",
       "      <td>278</td>\n",
       "      <td>tt0111161</td>\n",
       "      <td>en</td>\n",
       "      <td>The Shawshank Redemption</td>\n",
       "      <td>...</td>\n",
       "      <td>1994-09-23</td>\n",
       "      <td>28341469</td>\n",
       "      <td>142</td>\n",
       "      <td>[{'english_name': 'English', 'iso_639_1': 'en'...</td>\n",
       "      <td>Released</td>\n",
       "      <td>Fear can hold you prisoner. Hope can set you f...</td>\n",
       "      <td>The Shawshank Redemption</td>\n",
       "      <td>False</td>\n",
       "      <td>8.700</td>\n",
       "      <td>22556</td>\n",
       "    </tr>\n",
       "    <tr>\n",
       "      <th>2</th>\n",
       "      <td>False</td>\n",
       "      <td>/qFLQEng8NADXWkxB5vE9dO7YyNf.jpg</td>\n",
       "      <td>{'id': 473983, 'name': 'Hababam Sınıfı [Seri]'...</td>\n",
       "      <td>0</td>\n",
       "      <td>[{'id': 35, 'name': 'Comedy'}, {'id': 18, 'nam...</td>\n",
       "      <td>NaN</td>\n",
       "      <td>83651</td>\n",
       "      <td>tt0252487</td>\n",
       "      <td>tr</td>\n",
       "      <td>Hababam Sınıfı</td>\n",
       "      <td>...</td>\n",
       "      <td>1975-04-01</td>\n",
       "      <td>0</td>\n",
       "      <td>87</td>\n",
       "      <td>[{'english_name': 'Turkish', 'iso_639_1': 'tr'...</td>\n",
       "      <td>Released</td>\n",
       "      <td>NaN</td>\n",
       "      <td>The Chaos Class</td>\n",
       "      <td>False</td>\n",
       "      <td>7.960</td>\n",
       "      <td>100</td>\n",
       "    </tr>\n",
       "    <tr>\n",
       "      <th>3</th>\n",
       "      <td>False</td>\n",
       "      <td>/rSPw7tgCH9c6NqICZef4kZjFOQ5.jpg</td>\n",
       "      <td>{'id': 230, 'name': 'The Godfather Collection'...</td>\n",
       "      <td>6000000</td>\n",
       "      <td>[{'id': 18, 'name': 'Drama'}, {'id': 80, 'name...</td>\n",
       "      <td>http://www.thegodfather.com/</td>\n",
       "      <td>238</td>\n",
       "      <td>tt0068646</td>\n",
       "      <td>en</td>\n",
       "      <td>The Godfather</td>\n",
       "      <td>...</td>\n",
       "      <td>1972-03-14</td>\n",
       "      <td>245066411</td>\n",
       "      <td>175</td>\n",
       "      <td>[{'english_name': 'English', 'iso_639_1': 'en'...</td>\n",
       "      <td>Released</td>\n",
       "      <td>An offer you can't refuse.</td>\n",
       "      <td>The Godfather</td>\n",
       "      <td>False</td>\n",
       "      <td>8.716</td>\n",
       "      <td>16826</td>\n",
       "    </tr>\n",
       "    <tr>\n",
       "      <th>4</th>\n",
       "      <td>False</td>\n",
       "      <td>/nMKdUUepR0i5zn0y1T4CsSB5chy.jpg</td>\n",
       "      <td>{'id': 263, 'name': 'The Dark Knight Collectio...</td>\n",
       "      <td>185000000</td>\n",
       "      <td>[{'id': 18, 'name': 'Drama'}, {'id': 28, 'name...</td>\n",
       "      <td>https://www.warnerbros.com/movies/dark-knight/</td>\n",
       "      <td>155</td>\n",
       "      <td>tt0468569</td>\n",
       "      <td>en</td>\n",
       "      <td>The Dark Knight</td>\n",
       "      <td>...</td>\n",
       "      <td>2008-07-14</td>\n",
       "      <td>1004558444</td>\n",
       "      <td>152</td>\n",
       "      <td>[{'english_name': 'English', 'iso_639_1': 'en'...</td>\n",
       "      <td>Released</td>\n",
       "      <td>Welcome to a world without rules.</td>\n",
       "      <td>The Dark Knight</td>\n",
       "      <td>False</td>\n",
       "      <td>8.502</td>\n",
       "      <td>28486</td>\n",
       "    </tr>\n",
       "  </tbody>\n",
       "</table>\n",
       "<p>5 rows × 25 columns</p>\n",
       "</div>"
      ],
      "text/plain": [
       "   adult                     backdrop_path  \\\n",
       "0  False  /g4EccIilvUXEGDLcGozUbodgtvn.jpg   \n",
       "1  False  /kXfqcdQKsToO0OUXHcrrNCHDBzO.jpg   \n",
       "2  False  /qFLQEng8NADXWkxB5vE9dO7YyNf.jpg   \n",
       "3  False  /rSPw7tgCH9c6NqICZef4kZjFOQ5.jpg   \n",
       "4  False  /nMKdUUepR0i5zn0y1T4CsSB5chy.jpg   \n",
       "\n",
       "                               belongs_to_collection     budget  \\\n",
       "0                                                NaN          0   \n",
       "1                                                NaN   25000000   \n",
       "2  {'id': 473983, 'name': 'Hababam Sınıfı [Seri]'...          0   \n",
       "3  {'id': 230, 'name': 'The Godfather Collection'...    6000000   \n",
       "4  {'id': 263, 'name': 'The Dark Knight Collectio...  185000000   \n",
       "\n",
       "                                              genres  \\\n",
       "0  [{'id': 9648, 'name': 'Mystery'}, {'id': 28, '...   \n",
       "1  [{'id': 18, 'name': 'Drama'}, {'id': 80, 'name...   \n",
       "2  [{'id': 35, 'name': 'Comedy'}, {'id': 18, 'nam...   \n",
       "3  [{'id': 18, 'name': 'Drama'}, {'id': 80, 'name...   \n",
       "4  [{'id': 18, 'name': 'Drama'}, {'id': 28, 'name...   \n",
       "\n",
       "                                         homepage      id     imdb_id  \\\n",
       "0        https://hombalefilms.com/movies/kantara/  858485  tt15327088   \n",
       "1                                             NaN     278   tt0111161   \n",
       "2                                             NaN   83651   tt0252487   \n",
       "3                    http://www.thegodfather.com/     238   tt0068646   \n",
       "4  https://www.warnerbros.com/movies/dark-knight/     155   tt0468569   \n",
       "\n",
       "  original_language            original_title  ... release_date     revenue  \\\n",
       "0                kn                    ಕಾಂತಾರ  ...   2022-09-30           0   \n",
       "1                en  The Shawshank Redemption  ...   1994-09-23    28341469   \n",
       "2                tr            Hababam Sınıfı  ...   1975-04-01           0   \n",
       "3                en             The Godfather  ...   1972-03-14   245066411   \n",
       "4                en           The Dark Knight  ...   2008-07-14  1004558444   \n",
       "\n",
       "  runtime                                   spoken_languages    status  \\\n",
       "0     150  [{'english_name': 'Kannada', 'iso_639_1': 'kn'...  Released   \n",
       "1     142  [{'english_name': 'English', 'iso_639_1': 'en'...  Released   \n",
       "2      87  [{'english_name': 'Turkish', 'iso_639_1': 'tr'...  Released   \n",
       "3     175  [{'english_name': 'English', 'iso_639_1': 'en'...  Released   \n",
       "4     152  [{'english_name': 'English', 'iso_639_1': 'en'...  Released   \n",
       "\n",
       "                                             tagline  \\\n",
       "0                                           A Legend   \n",
       "1  Fear can hold you prisoner. Hope can set you f...   \n",
       "2                                                NaN   \n",
       "3                         An offer you can't refuse.   \n",
       "4                  Welcome to a world without rules.   \n",
       "\n",
       "                      title  video vote_average vote_count  \n",
       "0                   Kantara  False        8.400         10  \n",
       "1  The Shawshank Redemption  False        8.700      22556  \n",
       "2           The Chaos Class  False        7.960        100  \n",
       "3             The Godfather  False        8.716      16826  \n",
       "4           The Dark Knight  False        8.502      28486  \n",
       "\n",
       "[5 rows x 25 columns]"
      ]
     },
     "execution_count": 2,
     "metadata": {},
     "output_type": "execute_result"
    }
   ],
   "source": [
    "metadata = pd.read_csv('data/movie_metadata.csv')\n",
    "metadata.head()"
   ]
  },
  {
   "cell_type": "code",
   "execution_count": 3,
   "metadata": {},
   "outputs": [
    {
     "data": {
      "text/plain": [
       "adult                       bool\n",
       "backdrop_path             object\n",
       "belongs_to_collection     object\n",
       "budget                     int64\n",
       "genres                    object\n",
       "homepage                  object\n",
       "id                         int64\n",
       "imdb_id                   object\n",
       "original_language         object\n",
       "original_title            object\n",
       "overview                  object\n",
       "popularity               float64\n",
       "poster_path               object\n",
       "production_companies      object\n",
       "production_countries      object\n",
       "release_date              object\n",
       "revenue                    int64\n",
       "runtime                    int64\n",
       "spoken_languages          object\n",
       "status                    object\n",
       "tagline                   object\n",
       "title                     object\n",
       "video                       bool\n",
       "vote_average             float64\n",
       "vote_count                 int64\n",
       "dtype: object"
      ]
     },
     "execution_count": 3,
     "metadata": {},
     "output_type": "execute_result"
    }
   ],
   "source": [
    "metadata.dtypes"
   ]
  },
  {
   "cell_type": "code",
   "execution_count": 4,
   "metadata": {},
   "outputs": [],
   "source": [
    "metadata = metadata[['id', 'imdb_id', 'title', 'release_date', 'vote_average', 'genres', 'overview', 'tagline']]"
   ]
  },
  {
   "cell_type": "code",
   "execution_count": 5,
   "metadata": {},
   "outputs": [
    {
     "data": {
      "text/plain": [
       "id              4790\n",
       "imdb_id         4790\n",
       "title           4790\n",
       "release_date    4790\n",
       "vote_average    4790\n",
       "genres          4790\n",
       "overview        4789\n",
       "tagline         4431\n",
       "dtype: int64"
      ]
     },
     "execution_count": 5,
     "metadata": {},
     "output_type": "execute_result"
    }
   ],
   "source": [
    "metadata.notnull().sum()"
   ]
  },
  {
   "cell_type": "code",
   "execution_count": 6,
   "metadata": {},
   "outputs": [
    {
     "data": {
      "text/plain": [
       "0    2022-09-30\n",
       "1    1994-09-23\n",
       "2    1975-04-01\n",
       "3    1972-03-14\n",
       "4    2008-07-14\n",
       "Name: release_date, dtype: object"
      ]
     },
     "execution_count": 6,
     "metadata": {},
     "output_type": "execute_result"
    }
   ],
   "source": [
    "metadata['release_date'].head()"
   ]
  },
  {
   "cell_type": "code",
   "execution_count": 7,
   "metadata": {},
   "outputs": [],
   "source": [
    "metadata['year'] = metadata['release_date'].apply(lambda x: int(x[:4]))"
   ]
  },
  {
   "cell_type": "code",
   "execution_count": 8,
   "metadata": {},
   "outputs": [],
   "source": [
    "metadata.drop(columns=['release_date'], inplace=True)"
   ]
  },
  {
   "cell_type": "code",
   "execution_count": 9,
   "metadata": {},
   "outputs": [],
   "source": [
    "metadata['genres'] = metadata['genres'].apply(literal_eval).apply(lambda x: [i['name'].lower() for i in x]*2 if isinstance(x, list) else [])"
   ]
  },
  {
   "cell_type": "code",
   "execution_count": 10,
   "metadata": {},
   "outputs": [],
   "source": [
    "metadata['overview'] = metadata['overview'].fillna('').str.lower()\n",
    "metadata['tagline'] = metadata['tagline'].fillna('').str.lower()"
   ]
  },
  {
   "cell_type": "code",
   "execution_count": 11,
   "metadata": {},
   "outputs": [],
   "source": [
    "stop_words = set(stopwords.words('english'))\n",
    "\n",
    "metadata['overview'] = metadata['overview'].apply(lambda x: [stemmer.stem(i.translate(str.maketrans('', '', string.punctuation))) for i in x.split(' ') if i not in stop_words])\n",
    "metadata['tagline'] = metadata['tagline'].apply(lambda x: [stemmer.stem(i.translate(str.maketrans('', '', string.punctuation))) for i in x.split(' ') if i not in stop_words])"
   ]
  },
  {
   "cell_type": "code",
   "execution_count": 12,
   "metadata": {},
   "outputs": [
    {
     "data": {
      "text/html": [
       "<div>\n",
       "<style scoped>\n",
       "    .dataframe tbody tr th:only-of-type {\n",
       "        vertical-align: middle;\n",
       "    }\n",
       "\n",
       "    .dataframe tbody tr th {\n",
       "        vertical-align: top;\n",
       "    }\n",
       "\n",
       "    .dataframe thead th {\n",
       "        text-align: right;\n",
       "    }\n",
       "</style>\n",
       "<table border=\"1\" class=\"dataframe\">\n",
       "  <thead>\n",
       "    <tr style=\"text-align: right;\">\n",
       "      <th></th>\n",
       "      <th>id</th>\n",
       "      <th>imdb_id</th>\n",
       "      <th>title</th>\n",
       "      <th>vote_average</th>\n",
       "      <th>genres</th>\n",
       "      <th>overview</th>\n",
       "      <th>tagline</th>\n",
       "      <th>year</th>\n",
       "    </tr>\n",
       "  </thead>\n",
       "  <tbody>\n",
       "    <tr>\n",
       "      <th>0</th>\n",
       "      <td>858485</td>\n",
       "      <td>tt15327088</td>\n",
       "      <td>Kantara</td>\n",
       "      <td>8.400</td>\n",
       "      <td>[mystery, action, thriller, mystery, action, t...</td>\n",
       "      <td>[shiva, tribal, vagabond, live, mother, hamlet...</td>\n",
       "      <td>[legend]</td>\n",
       "      <td>2022</td>\n",
       "    </tr>\n",
       "    <tr>\n",
       "      <th>1</th>\n",
       "      <td>278</td>\n",
       "      <td>tt0111161</td>\n",
       "      <td>The Shawshank Redemption</td>\n",
       "      <td>8.700</td>\n",
       "      <td>[drama, crime, drama, crime]</td>\n",
       "      <td>[frame, 1940s, doubl, murder, wife, lover, ups...</td>\n",
       "      <td>[fear, hold, prison, hope, set, free]</td>\n",
       "      <td>1994</td>\n",
       "    </tr>\n",
       "    <tr>\n",
       "      <th>2</th>\n",
       "      <td>83651</td>\n",
       "      <td>tt0252487</td>\n",
       "      <td>The Chaos Class</td>\n",
       "      <td>7.960</td>\n",
       "      <td>[comedy, drama, comedy, drama]</td>\n",
       "      <td>[lazi, uneduc, student, most, come, money, sha...</td>\n",
       "      <td>[]</td>\n",
       "      <td>1975</td>\n",
       "    </tr>\n",
       "    <tr>\n",
       "      <th>3</th>\n",
       "      <td>238</td>\n",
       "      <td>tt0068646</td>\n",
       "      <td>The Godfather</td>\n",
       "      <td>8.716</td>\n",
       "      <td>[drama, crime, drama, crime]</td>\n",
       "      <td>[span, year, 1945, 1955, chronicl, fiction, it...</td>\n",
       "      <td>[offer, cant, refus]</td>\n",
       "      <td>1972</td>\n",
       "    </tr>\n",
       "    <tr>\n",
       "      <th>4</th>\n",
       "      <td>155</td>\n",
       "      <td>tt0468569</td>\n",
       "      <td>The Dark Knight</td>\n",
       "      <td>8.502</td>\n",
       "      <td>[drama, action, crime, thriller, drama, action...</td>\n",
       "      <td>[batman, rais, stake, war, crime, help, lt, ji...</td>\n",
       "      <td>[welcom, world, without, rule]</td>\n",
       "      <td>2008</td>\n",
       "    </tr>\n",
       "  </tbody>\n",
       "</table>\n",
       "</div>"
      ],
      "text/plain": [
       "       id     imdb_id                     title  vote_average  \\\n",
       "0  858485  tt15327088                   Kantara         8.400   \n",
       "1     278   tt0111161  The Shawshank Redemption         8.700   \n",
       "2   83651   tt0252487           The Chaos Class         7.960   \n",
       "3     238   tt0068646             The Godfather         8.716   \n",
       "4     155   tt0468569           The Dark Knight         8.502   \n",
       "\n",
       "                                              genres  \\\n",
       "0  [mystery, action, thriller, mystery, action, t...   \n",
       "1                       [drama, crime, drama, crime]   \n",
       "2                     [comedy, drama, comedy, drama]   \n",
       "3                       [drama, crime, drama, crime]   \n",
       "4  [drama, action, crime, thriller, drama, action...   \n",
       "\n",
       "                                            overview  \\\n",
       "0  [shiva, tribal, vagabond, live, mother, hamlet...   \n",
       "1  [frame, 1940s, doubl, murder, wife, lover, ups...   \n",
       "2  [lazi, uneduc, student, most, come, money, sha...   \n",
       "3  [span, year, 1945, 1955, chronicl, fiction, it...   \n",
       "4  [batman, rais, stake, war, crime, help, lt, ji...   \n",
       "\n",
       "                                 tagline  year  \n",
       "0                               [legend]  2022  \n",
       "1  [fear, hold, prison, hope, set, free]  1994  \n",
       "2                                     []  1975  \n",
       "3                   [offer, cant, refus]  1972  \n",
       "4         [welcom, world, without, rule]  2008  "
      ]
     },
     "execution_count": 12,
     "metadata": {},
     "output_type": "execute_result"
    }
   ],
   "source": [
    "metadata.head()"
   ]
  },
  {
   "cell_type": "code",
   "execution_count": 13,
   "metadata": {},
   "outputs": [
    {
     "data": {
      "text/plain": [
       "id                int64\n",
       "imdb_id          object\n",
       "title            object\n",
       "vote_average    float64\n",
       "genres           object\n",
       "overview         object\n",
       "tagline          object\n",
       "year              int64\n",
       "dtype: object"
      ]
     },
     "execution_count": 13,
     "metadata": {},
     "output_type": "execute_result"
    }
   ],
   "source": [
    "metadata.dtypes"
   ]
  },
  {
   "cell_type": "markdown",
   "metadata": {},
   "source": [
    "### 2. Credits"
   ]
  },
  {
   "cell_type": "code",
   "execution_count": 14,
   "metadata": {},
   "outputs": [
    {
     "data": {
      "text/html": [
       "<div>\n",
       "<style scoped>\n",
       "    .dataframe tbody tr th:only-of-type {\n",
       "        vertical-align: middle;\n",
       "    }\n",
       "\n",
       "    .dataframe tbody tr th {\n",
       "        vertical-align: top;\n",
       "    }\n",
       "\n",
       "    .dataframe thead th {\n",
       "        text-align: right;\n",
       "    }\n",
       "</style>\n",
       "<table border=\"1\" class=\"dataframe\">\n",
       "  <thead>\n",
       "    <tr style=\"text-align: right;\">\n",
       "      <th></th>\n",
       "      <th>id</th>\n",
       "      <th>cast</th>\n",
       "      <th>crew</th>\n",
       "    </tr>\n",
       "  </thead>\n",
       "  <tbody>\n",
       "    <tr>\n",
       "      <th>0</th>\n",
       "      <td>858485</td>\n",
       "      <td>[{'adult': False, 'gender': 2, 'id': 1752058, ...</td>\n",
       "      <td>[{'adult': False, 'gender': 0, 'id': 1189437, ...</td>\n",
       "    </tr>\n",
       "    <tr>\n",
       "      <th>1</th>\n",
       "      <td>278</td>\n",
       "      <td>[{'adult': False, 'gender': 2, 'id': 504, 'kno...</td>\n",
       "      <td>[{'adult': False, 'gender': 2, 'id': 153, 'kno...</td>\n",
       "    </tr>\n",
       "    <tr>\n",
       "      <th>2</th>\n",
       "      <td>83651</td>\n",
       "      <td>[{'adult': False, 'gender': 2, 'id': 556048, '...</td>\n",
       "      <td>[{'adult': False, 'gender': 2, 'id': 109083, '...</td>\n",
       "    </tr>\n",
       "    <tr>\n",
       "      <th>3</th>\n",
       "      <td>238</td>\n",
       "      <td>[{'adult': False, 'gender': 2, 'id': 3084, 'kn...</td>\n",
       "      <td>[{'adult': False, 'gender': 2, 'id': 154, 'kno...</td>\n",
       "    </tr>\n",
       "    <tr>\n",
       "      <th>4</th>\n",
       "      <td>155</td>\n",
       "      <td>[{'adult': False, 'gender': 2, 'id': 3894, 'kn...</td>\n",
       "      <td>[{'adult': False, 'gender': 1, 'id': 1113, 'kn...</td>\n",
       "    </tr>\n",
       "  </tbody>\n",
       "</table>\n",
       "</div>"
      ],
      "text/plain": [
       "       id                                               cast  \\\n",
       "0  858485  [{'adult': False, 'gender': 2, 'id': 1752058, ...   \n",
       "1     278  [{'adult': False, 'gender': 2, 'id': 504, 'kno...   \n",
       "2   83651  [{'adult': False, 'gender': 2, 'id': 556048, '...   \n",
       "3     238  [{'adult': False, 'gender': 2, 'id': 3084, 'kn...   \n",
       "4     155  [{'adult': False, 'gender': 2, 'id': 3894, 'kn...   \n",
       "\n",
       "                                                crew  \n",
       "0  [{'adult': False, 'gender': 0, 'id': 1189437, ...  \n",
       "1  [{'adult': False, 'gender': 2, 'id': 153, 'kno...  \n",
       "2  [{'adult': False, 'gender': 2, 'id': 109083, '...  \n",
       "3  [{'adult': False, 'gender': 2, 'id': 154, 'kno...  \n",
       "4  [{'adult': False, 'gender': 1, 'id': 1113, 'kn...  "
      ]
     },
     "execution_count": 14,
     "metadata": {},
     "output_type": "execute_result"
    }
   ],
   "source": [
    "credits = pd.read_csv('data/movie_credits.csv')\n",
    "credits.head()"
   ]
  },
  {
   "cell_type": "code",
   "execution_count": 15,
   "metadata": {},
   "outputs": [],
   "source": [
    "credits['actors'] = credits['cast'].apply(literal_eval).apply(lambda x: [i['name'].lower().replace(' ', '') for i in x[:3]]*2)"
   ]
  },
  {
   "cell_type": "code",
   "execution_count": 16,
   "metadata": {},
   "outputs": [],
   "source": [
    "credits['director'] = credits['crew'].apply(literal_eval).apply(lambda x: [i['name'].lower().replace(' ', '') for i in x if i['job'] == 'Director']*2)"
   ]
  },
  {
   "cell_type": "code",
   "execution_count": 17,
   "metadata": {},
   "outputs": [
    {
     "data": {
      "text/html": [
       "<div>\n",
       "<style scoped>\n",
       "    .dataframe tbody tr th:only-of-type {\n",
       "        vertical-align: middle;\n",
       "    }\n",
       "\n",
       "    .dataframe tbody tr th {\n",
       "        vertical-align: top;\n",
       "    }\n",
       "\n",
       "    .dataframe thead th {\n",
       "        text-align: right;\n",
       "    }\n",
       "</style>\n",
       "<table border=\"1\" class=\"dataframe\">\n",
       "  <thead>\n",
       "    <tr style=\"text-align: right;\">\n",
       "      <th></th>\n",
       "      <th>id</th>\n",
       "      <th>actors</th>\n",
       "      <th>director</th>\n",
       "    </tr>\n",
       "  </thead>\n",
       "  <tbody>\n",
       "    <tr>\n",
       "      <th>0</th>\n",
       "      <td>858485</td>\n",
       "      <td>[rishabshetty, sapthamigowda, kishore, rishabs...</td>\n",
       "      <td>[rishabshetty, rishabshetty]</td>\n",
       "    </tr>\n",
       "    <tr>\n",
       "      <th>1</th>\n",
       "      <td>278</td>\n",
       "      <td>[timrobbins, morganfreeman, bobgunton, timrobb...</td>\n",
       "      <td>[frankdarabont, frankdarabont]</td>\n",
       "    </tr>\n",
       "    <tr>\n",
       "      <th>2</th>\n",
       "      <td>83651</td>\n",
       "      <td>[münirözkul, adilenaşit, kemalsunal, münirözku...</td>\n",
       "      <td>[ertemeğilmez, ertemeğilmez]</td>\n",
       "    </tr>\n",
       "    <tr>\n",
       "      <th>3</th>\n",
       "      <td>238</td>\n",
       "      <td>[marlonbrando, alpacino, jamescaan, marlonbran...</td>\n",
       "      <td>[francisfordcoppola, francisfordcoppola]</td>\n",
       "    </tr>\n",
       "    <tr>\n",
       "      <th>4</th>\n",
       "      <td>155</td>\n",
       "      <td>[christianbale, heathledger, michaelcaine, chr...</td>\n",
       "      <td>[christophernolan, christophernolan]</td>\n",
       "    </tr>\n",
       "  </tbody>\n",
       "</table>\n",
       "</div>"
      ],
      "text/plain": [
       "       id                                             actors  \\\n",
       "0  858485  [rishabshetty, sapthamigowda, kishore, rishabs...   \n",
       "1     278  [timrobbins, morganfreeman, bobgunton, timrobb...   \n",
       "2   83651  [münirözkul, adilenaşit, kemalsunal, münirözku...   \n",
       "3     238  [marlonbrando, alpacino, jamescaan, marlonbran...   \n",
       "4     155  [christianbale, heathledger, michaelcaine, chr...   \n",
       "\n",
       "                                   director  \n",
       "0              [rishabshetty, rishabshetty]  \n",
       "1            [frankdarabont, frankdarabont]  \n",
       "2              [ertemeğilmez, ertemeğilmez]  \n",
       "3  [francisfordcoppola, francisfordcoppola]  \n",
       "4      [christophernolan, christophernolan]  "
      ]
     },
     "execution_count": 17,
     "metadata": {},
     "output_type": "execute_result"
    }
   ],
   "source": [
    "credits.drop(columns=['cast', 'crew'], inplace=True)\n",
    "credits.head()"
   ]
  },
  {
   "cell_type": "code",
   "execution_count": 18,
   "metadata": {},
   "outputs": [
    {
     "data": {
      "text/plain": [
       "id           int64\n",
       "actors      object\n",
       "director    object\n",
       "dtype: object"
      ]
     },
     "execution_count": 18,
     "metadata": {},
     "output_type": "execute_result"
    }
   ],
   "source": [
    "credits.dtypes"
   ]
  },
  {
   "cell_type": "markdown",
   "metadata": {},
   "source": [
    "## 3. Keywords"
   ]
  },
  {
   "cell_type": "code",
   "execution_count": 19,
   "metadata": {},
   "outputs": [
    {
     "data": {
      "text/html": [
       "<div>\n",
       "<style scoped>\n",
       "    .dataframe tbody tr th:only-of-type {\n",
       "        vertical-align: middle;\n",
       "    }\n",
       "\n",
       "    .dataframe tbody tr th {\n",
       "        vertical-align: top;\n",
       "    }\n",
       "\n",
       "    .dataframe thead th {\n",
       "        text-align: right;\n",
       "    }\n",
       "</style>\n",
       "<table border=\"1\" class=\"dataframe\">\n",
       "  <thead>\n",
       "    <tr style=\"text-align: right;\">\n",
       "      <th></th>\n",
       "      <th>id</th>\n",
       "      <th>keywords</th>\n",
       "    </tr>\n",
       "  </thead>\n",
       "  <tbody>\n",
       "    <tr>\n",
       "      <th>0</th>\n",
       "      <td>858485</td>\n",
       "      <td>[]</td>\n",
       "    </tr>\n",
       "    <tr>\n",
       "      <th>1</th>\n",
       "      <td>278</td>\n",
       "      <td>[{'id': 378, 'name': 'prison'}, {'id': 417, 'n...</td>\n",
       "    </tr>\n",
       "    <tr>\n",
       "      <th>2</th>\n",
       "      <td>83651</td>\n",
       "      <td>[]</td>\n",
       "    </tr>\n",
       "    <tr>\n",
       "      <th>3</th>\n",
       "      <td>238</td>\n",
       "      <td>[{'id': 131, 'name': 'italy'}, {'id': 697, 'na...</td>\n",
       "    </tr>\n",
       "    <tr>\n",
       "      <th>4</th>\n",
       "      <td>155</td>\n",
       "      <td>[{'id': 853, 'name': 'crime fighter'}, {'id': ...</td>\n",
       "    </tr>\n",
       "  </tbody>\n",
       "</table>\n",
       "</div>"
      ],
      "text/plain": [
       "       id                                           keywords\n",
       "0  858485                                                 []\n",
       "1     278  [{'id': 378, 'name': 'prison'}, {'id': 417, 'n...\n",
       "2   83651                                                 []\n",
       "3     238  [{'id': 131, 'name': 'italy'}, {'id': 697, 'na...\n",
       "4     155  [{'id': 853, 'name': 'crime fighter'}, {'id': ..."
      ]
     },
     "execution_count": 19,
     "metadata": {},
     "output_type": "execute_result"
    }
   ],
   "source": [
    "keywords = pd.read_csv('data/movie_keywords.csv')\n",
    "keywords.head()"
   ]
  },
  {
   "cell_type": "code",
   "execution_count": 20,
   "metadata": {},
   "outputs": [],
   "source": [
    "keywords['keywords'] = keywords['keywords'].apply(literal_eval)"
   ]
  },
  {
   "cell_type": "code",
   "execution_count": 21,
   "metadata": {},
   "outputs": [],
   "source": [
    "all_keywords = pd.Series([x['name'] for item in keywords['keywords'] for x in item]).value_counts()"
   ]
  },
  {
   "cell_type": "code",
   "execution_count": 22,
   "metadata": {},
   "outputs": [],
   "source": [
    "all_keywords = all_keywords[all_keywords>1]"
   ]
  },
  {
   "cell_type": "code",
   "execution_count": 23,
   "metadata": {},
   "outputs": [
    {
     "data": {
      "text/plain": [
       "based on novel or book    633\n",
       "duringcreditsstinger      344\n",
       "murder                    332\n",
       "new york city             253\n",
       "based on true story       221\n",
       "                         ... \n",
       "payback                     2\n",
       "erased memory               2\n",
       "swimsuit                    2\n",
       "contraception               2\n",
       "dowager                     2\n",
       "Length: 5707, dtype: int64"
      ]
     },
     "execution_count": 23,
     "metadata": {},
     "output_type": "execute_result"
    }
   ],
   "source": [
    "all_keywords"
   ]
  },
  {
   "cell_type": "code",
   "execution_count": 24,
   "metadata": {},
   "outputs": [],
   "source": [
    "keywords['keywords'] = keywords['keywords'].apply(lambda x: [i['name'] for i in x if i['name'] in all_keywords.index])"
   ]
  },
  {
   "cell_type": "code",
   "execution_count": 25,
   "metadata": {},
   "outputs": [],
   "source": [
    "keywords['keywords'] = keywords['keywords'].apply(lambda x: [stemmer.stem(i).replace(' ', '')  for i in x if i not in stop_words])"
   ]
  },
  {
   "cell_type": "code",
   "execution_count": 26,
   "metadata": {},
   "outputs": [
    {
     "data": {
      "text/html": [
       "<div>\n",
       "<style scoped>\n",
       "    .dataframe tbody tr th:only-of-type {\n",
       "        vertical-align: middle;\n",
       "    }\n",
       "\n",
       "    .dataframe tbody tr th {\n",
       "        vertical-align: top;\n",
       "    }\n",
       "\n",
       "    .dataframe thead th {\n",
       "        text-align: right;\n",
       "    }\n",
       "</style>\n",
       "<table border=\"1\" class=\"dataframe\">\n",
       "  <thead>\n",
       "    <tr style=\"text-align: right;\">\n",
       "      <th></th>\n",
       "      <th>id</th>\n",
       "      <th>keywords</th>\n",
       "    </tr>\n",
       "  </thead>\n",
       "  <tbody>\n",
       "    <tr>\n",
       "      <th>0</th>\n",
       "      <td>858485</td>\n",
       "      <td>[]</td>\n",
       "    </tr>\n",
       "    <tr>\n",
       "      <th>1</th>\n",
       "      <td>278</td>\n",
       "      <td>[prison, corrupt, policebrut, basedonnovelorbo...</td>\n",
       "    </tr>\n",
       "    <tr>\n",
       "      <th>2</th>\n",
       "      <td>83651</td>\n",
       "      <td>[]</td>\n",
       "    </tr>\n",
       "    <tr>\n",
       "      <th>3</th>\n",
       "      <td>238</td>\n",
       "      <td>[itali, lossoflovedon, loveatfirstsight, based...</td>\n",
       "    </tr>\n",
       "    <tr>\n",
       "      <th>4</th>\n",
       "      <td>155</td>\n",
       "      <td>[crimefight, secretident, antihero, scarecrow,...</td>\n",
       "    </tr>\n",
       "    <tr>\n",
       "      <th>...</th>\n",
       "      <td>...</td>\n",
       "      <td>...</td>\n",
       "    </tr>\n",
       "    <tr>\n",
       "      <th>4783</th>\n",
       "      <td>876671</td>\n",
       "      <td>[hungari, basedontruestori, histor, politicall...</td>\n",
       "    </tr>\n",
       "    <tr>\n",
       "      <th>4784</th>\n",
       "      <td>415861</td>\n",
       "      <td>[journalist, conspiracytheori, crash]</td>\n",
       "    </tr>\n",
       "    <tr>\n",
       "      <th>4785</th>\n",
       "      <td>556270</td>\n",
       "      <td>[sequel]</td>\n",
       "    </tr>\n",
       "    <tr>\n",
       "      <th>4786</th>\n",
       "      <td>470121</td>\n",
       "      <td>[]</td>\n",
       "    </tr>\n",
       "    <tr>\n",
       "      <th>4787</th>\n",
       "      <td>421682</td>\n",
       "      <td>[]</td>\n",
       "    </tr>\n",
       "  </tbody>\n",
       "</table>\n",
       "<p>4788 rows × 2 columns</p>\n",
       "</div>"
      ],
      "text/plain": [
       "          id                                           keywords\n",
       "0     858485                                                 []\n",
       "1        278  [prison, corrupt, policebrut, basedonnovelorbo...\n",
       "2      83651                                                 []\n",
       "3        238  [itali, lossoflovedon, loveatfirstsight, based...\n",
       "4        155  [crimefight, secretident, antihero, scarecrow,...\n",
       "...      ...                                                ...\n",
       "4783  876671  [hungari, basedontruestori, histor, politicall...\n",
       "4784  415861              [journalist, conspiracytheori, crash]\n",
       "4785  556270                                           [sequel]\n",
       "4786  470121                                                 []\n",
       "4787  421682                                                 []\n",
       "\n",
       "[4788 rows x 2 columns]"
      ]
     },
     "execution_count": 26,
     "metadata": {},
     "output_type": "execute_result"
    }
   ],
   "source": [
    "keywords"
   ]
  },
  {
   "cell_type": "markdown",
   "metadata": {},
   "source": [
    "## 4. Merging dataframes on id"
   ]
  },
  {
   "cell_type": "code",
   "execution_count": 27,
   "metadata": {},
   "outputs": [],
   "source": [
    "dfs = [metadata, credits, keywords]\n",
    "outer_merge = partial(pd.merge, how='outer')\n",
    "combined = reduce(outer_merge, dfs)"
   ]
  },
  {
   "cell_type": "code",
   "execution_count": 28,
   "metadata": {},
   "outputs": [
    {
     "data": {
      "text/plain": [
       "id                int64\n",
       "imdb_id          object\n",
       "title            object\n",
       "vote_average    float64\n",
       "genres           object\n",
       "overview         object\n",
       "tagline          object\n",
       "year            float64\n",
       "actors           object\n",
       "director         object\n",
       "keywords         object\n",
       "dtype: object"
      ]
     },
     "execution_count": 28,
     "metadata": {},
     "output_type": "execute_result"
    }
   ],
   "source": [
    "combined.dtypes"
   ]
  },
  {
   "cell_type": "code",
   "execution_count": 29,
   "metadata": {},
   "outputs": [],
   "source": [
    "combined.dropna(thresh=5, inplace=True)"
   ]
  },
  {
   "cell_type": "code",
   "execution_count": 30,
   "metadata": {},
   "outputs": [],
   "source": [
    "#combined['vote_average'] = combined['vote_average'].apply(lambda x: [str(round(x))])"
   ]
  },
  {
   "cell_type": "code",
   "execution_count": 31,
   "metadata": {},
   "outputs": [],
   "source": [
    "combined['year'] = combined['year'].astype(int)"
   ]
  },
  {
   "cell_type": "code",
   "execution_count": 32,
   "metadata": {},
   "outputs": [
    {
     "data": {
      "text/plain": [
       "id                int64\n",
       "imdb_id          object\n",
       "title            object\n",
       "vote_average    float64\n",
       "genres           object\n",
       "overview         object\n",
       "tagline          object\n",
       "year              int32\n",
       "actors           object\n",
       "director         object\n",
       "keywords         object\n",
       "dtype: object"
      ]
     },
     "execution_count": 32,
     "metadata": {},
     "output_type": "execute_result"
    }
   ],
   "source": [
    "combined.dtypes"
   ]
  },
  {
   "cell_type": "code",
   "execution_count": 33,
   "metadata": {},
   "outputs": [
    {
     "data": {
      "text/html": [
       "<div>\n",
       "<style scoped>\n",
       "    .dataframe tbody tr th:only-of-type {\n",
       "        vertical-align: middle;\n",
       "    }\n",
       "\n",
       "    .dataframe tbody tr th {\n",
       "        vertical-align: top;\n",
       "    }\n",
       "\n",
       "    .dataframe thead th {\n",
       "        text-align: right;\n",
       "    }\n",
       "</style>\n",
       "<table border=\"1\" class=\"dataframe\">\n",
       "  <thead>\n",
       "    <tr style=\"text-align: right;\">\n",
       "      <th></th>\n",
       "      <th>id</th>\n",
       "      <th>imdb_id</th>\n",
       "      <th>title</th>\n",
       "      <th>vote_average</th>\n",
       "      <th>genres</th>\n",
       "      <th>overview</th>\n",
       "      <th>tagline</th>\n",
       "      <th>year</th>\n",
       "      <th>actors</th>\n",
       "      <th>director</th>\n",
       "      <th>keywords</th>\n",
       "    </tr>\n",
       "  </thead>\n",
       "  <tbody>\n",
       "    <tr>\n",
       "      <th>0</th>\n",
       "      <td>858485</td>\n",
       "      <td>tt15327088</td>\n",
       "      <td>Kantara</td>\n",
       "      <td>8.400</td>\n",
       "      <td>[mystery, action, thriller, mystery, action, t...</td>\n",
       "      <td>[shiva, tribal, vagabond, live, mother, hamlet...</td>\n",
       "      <td>[legend]</td>\n",
       "      <td>2022</td>\n",
       "      <td>[rishabshetty, sapthamigowda, kishore, rishabs...</td>\n",
       "      <td>[rishabshetty, rishabshetty]</td>\n",
       "      <td>[]</td>\n",
       "    </tr>\n",
       "    <tr>\n",
       "      <th>1</th>\n",
       "      <td>278</td>\n",
       "      <td>tt0111161</td>\n",
       "      <td>The Shawshank Redemption</td>\n",
       "      <td>8.700</td>\n",
       "      <td>[drama, crime, drama, crime]</td>\n",
       "      <td>[frame, 1940s, doubl, murder, wife, lover, ups...</td>\n",
       "      <td>[fear, hold, prison, hope, set, free]</td>\n",
       "      <td>1994</td>\n",
       "      <td>[timrobbins, morganfreeman, bobgunton, timrobb...</td>\n",
       "      <td>[frankdarabont, frankdarabont]</td>\n",
       "      <td>[prison, corrupt, policebrut, basedonnovelorbo...</td>\n",
       "    </tr>\n",
       "    <tr>\n",
       "      <th>2</th>\n",
       "      <td>83651</td>\n",
       "      <td>tt0252487</td>\n",
       "      <td>The Chaos Class</td>\n",
       "      <td>7.960</td>\n",
       "      <td>[comedy, drama, comedy, drama]</td>\n",
       "      <td>[lazi, uneduc, student, most, come, money, sha...</td>\n",
       "      <td>[]</td>\n",
       "      <td>1975</td>\n",
       "      <td>[münirözkul, adilenaşit, kemalsunal, münirözku...</td>\n",
       "      <td>[ertemeğilmez, ertemeğilmez]</td>\n",
       "      <td>[]</td>\n",
       "    </tr>\n",
       "    <tr>\n",
       "      <th>3</th>\n",
       "      <td>238</td>\n",
       "      <td>tt0068646</td>\n",
       "      <td>The Godfather</td>\n",
       "      <td>8.716</td>\n",
       "      <td>[drama, crime, drama, crime]</td>\n",
       "      <td>[span, year, 1945, 1955, chronicl, fiction, it...</td>\n",
       "      <td>[offer, cant, refus]</td>\n",
       "      <td>1972</td>\n",
       "      <td>[marlonbrando, alpacino, jamescaan, marlonbran...</td>\n",
       "      <td>[francisfordcoppola, francisfordcoppola]</td>\n",
       "      <td>[itali, lossoflovedon, loveatfirstsight, based...</td>\n",
       "    </tr>\n",
       "    <tr>\n",
       "      <th>4</th>\n",
       "      <td>155</td>\n",
       "      <td>tt0468569</td>\n",
       "      <td>The Dark Knight</td>\n",
       "      <td>8.502</td>\n",
       "      <td>[drama, action, crime, thriller, drama, action...</td>\n",
       "      <td>[batman, rais, stake, war, crime, help, lt, ji...</td>\n",
       "      <td>[welcom, world, without, rule]</td>\n",
       "      <td>2008</td>\n",
       "      <td>[christianbale, heathledger, michaelcaine, chr...</td>\n",
       "      <td>[christophernolan, christophernolan]</td>\n",
       "      <td>[crimefight, secretident, antihero, scarecrow,...</td>\n",
       "    </tr>\n",
       "  </tbody>\n",
       "</table>\n",
       "</div>"
      ],
      "text/plain": [
       "       id     imdb_id                     title  vote_average  \\\n",
       "0  858485  tt15327088                   Kantara         8.400   \n",
       "1     278   tt0111161  The Shawshank Redemption         8.700   \n",
       "2   83651   tt0252487           The Chaos Class         7.960   \n",
       "3     238   tt0068646             The Godfather         8.716   \n",
       "4     155   tt0468569           The Dark Knight         8.502   \n",
       "\n",
       "                                              genres  \\\n",
       "0  [mystery, action, thriller, mystery, action, t...   \n",
       "1                       [drama, crime, drama, crime]   \n",
       "2                     [comedy, drama, comedy, drama]   \n",
       "3                       [drama, crime, drama, crime]   \n",
       "4  [drama, action, crime, thriller, drama, action...   \n",
       "\n",
       "                                            overview  \\\n",
       "0  [shiva, tribal, vagabond, live, mother, hamlet...   \n",
       "1  [frame, 1940s, doubl, murder, wife, lover, ups...   \n",
       "2  [lazi, uneduc, student, most, come, money, sha...   \n",
       "3  [span, year, 1945, 1955, chronicl, fiction, it...   \n",
       "4  [batman, rais, stake, war, crime, help, lt, ji...   \n",
       "\n",
       "                                 tagline  year  \\\n",
       "0                               [legend]  2022   \n",
       "1  [fear, hold, prison, hope, set, free]  1994   \n",
       "2                                     []  1975   \n",
       "3                   [offer, cant, refus]  1972   \n",
       "4         [welcom, world, without, rule]  2008   \n",
       "\n",
       "                                              actors  \\\n",
       "0  [rishabshetty, sapthamigowda, kishore, rishabs...   \n",
       "1  [timrobbins, morganfreeman, bobgunton, timrobb...   \n",
       "2  [münirözkul, adilenaşit, kemalsunal, münirözku...   \n",
       "3  [marlonbrando, alpacino, jamescaan, marlonbran...   \n",
       "4  [christianbale, heathledger, michaelcaine, chr...   \n",
       "\n",
       "                                   director  \\\n",
       "0              [rishabshetty, rishabshetty]   \n",
       "1            [frankdarabont, frankdarabont]   \n",
       "2              [ertemeğilmez, ertemeğilmez]   \n",
       "3  [francisfordcoppola, francisfordcoppola]   \n",
       "4      [christophernolan, christophernolan]   \n",
       "\n",
       "                                            keywords  \n",
       "0                                                 []  \n",
       "1  [prison, corrupt, policebrut, basedonnovelorbo...  \n",
       "2                                                 []  \n",
       "3  [itali, lossoflovedon, loveatfirstsight, based...  \n",
       "4  [crimefight, secretident, antihero, scarecrow,...  "
      ]
     },
     "execution_count": 33,
     "metadata": {},
     "output_type": "execute_result"
    }
   ],
   "source": [
    "combined.head()"
   ]
  },
  {
   "cell_type": "code",
   "execution_count": 34,
   "metadata": {},
   "outputs": [],
   "source": [
    "combined['soup'] = combined['vote_average'].apply(lambda x: [str(round(x))])*2 + combined['genres'] + combined['overview'] + combined['tagline'] + combined['keywords'] + combined['actors'] + combined['director']"
   ]
  },
  {
   "cell_type": "code",
   "execution_count": 35,
   "metadata": {},
   "outputs": [],
   "source": [
    "combined['soup'] = combined['soup'].dropna().apply(lambda x: ' '.join(x))"
   ]
  },
  {
   "cell_type": "code",
   "execution_count": 36,
   "metadata": {},
   "outputs": [
    {
     "name": "stdout",
     "output_type": "stream",
     "text": [
      "9 9 drama crime drama crime frame 1940s doubl murder wife lover upstand banker andi dufresn begin new life shawshank prison put account skill work amor warden long stretch prison dufresn come admir inmat  includ older prison name red  integr unquench sens hope fear hold prison hope set free prison corrupt policebrut basedonnovelorbook prisoncel delinqu prisonescap wrongfulimprison framedformurd 1940s timrobbins morganfreeman bobgunton timrobbins morganfreeman bobgunton frankdarabont frankdarabont\n"
     ]
    }
   ],
   "source": [
    "print(combined['soup'][1])"
   ]
  },
  {
   "cell_type": "code",
   "execution_count": 37,
   "metadata": {},
   "outputs": [],
   "source": [
    "tf = TfidfVectorizer(analyzer='word', ngram_range=(1,2), min_df=0, stop_words='english')\n",
    "tfidf_matrix = tf.fit_transform(combined['soup'].values.astype(str))"
   ]
  },
  {
   "cell_type": "code",
   "execution_count": 38,
   "metadata": {},
   "outputs": [
    {
     "data": {
      "text/plain": [
       "(4790, 206702)"
      ]
     },
     "execution_count": 38,
     "metadata": {},
     "output_type": "execute_result"
    }
   ],
   "source": [
    "tfidf_matrix.shape"
   ]
  },
  {
   "cell_type": "code",
   "execution_count": 39,
   "metadata": {},
   "outputs": [],
   "source": [
    "cosine_sim = cosine_similarity(tfidf_matrix, tfidf_matrix)"
   ]
  },
  {
   "cell_type": "code",
   "execution_count": 40,
   "metadata": {},
   "outputs": [],
   "source": [
    "combined = combined.reset_index()\n",
    "titles = combined[['title', 'year', 'vote_average']]\n",
    "indices = pd.Series(combined.index, index=combined['title'])"
   ]
  },
  {
   "cell_type": "code",
   "execution_count": 41,
   "metadata": {},
   "outputs": [],
   "source": [
    "def get_recommendations(title):\n",
    "    id = indices[title]\n",
    "    sim_scores = list(enumerate(cosine_sim[id]))\n",
    "    sim_scores = sorted(sim_scores, key=lambda x: x[1], reverse=True)\n",
    "    sim_scores = sim_scores[1:31]\n",
    "    movie_indices = [i[0] for i in sim_scores]\n",
    "    return titles.iloc[movie_indices]"
   ]
  },
  {
   "cell_type": "code",
   "execution_count": 42,
   "metadata": {},
   "outputs": [
    {
     "data": {
      "text/html": [
       "<div>\n",
       "<style scoped>\n",
       "    .dataframe tbody tr th:only-of-type {\n",
       "        vertical-align: middle;\n",
       "    }\n",
       "\n",
       "    .dataframe tbody tr th {\n",
       "        vertical-align: top;\n",
       "    }\n",
       "\n",
       "    .dataframe thead th {\n",
       "        text-align: right;\n",
       "    }\n",
       "</style>\n",
       "<table border=\"1\" class=\"dataframe\">\n",
       "  <thead>\n",
       "    <tr style=\"text-align: right;\">\n",
       "      <th></th>\n",
       "      <th>title</th>\n",
       "      <th>year</th>\n",
       "      <th>vote_average</th>\n",
       "    </tr>\n",
       "  </thead>\n",
       "  <tbody>\n",
       "    <tr>\n",
       "      <th>3461</th>\n",
       "      <td>Freaky Friday</td>\n",
       "      <td>2003</td>\n",
       "      <td>6.412</td>\n",
       "    </tr>\n",
       "    <tr>\n",
       "      <th>3496</th>\n",
       "      <td>Doc Hollywood</td>\n",
       "      <td>1991</td>\n",
       "      <td>6.328</td>\n",
       "    </tr>\n",
       "    <tr>\n",
       "      <th>4392</th>\n",
       "      <td>The Hot Chick</td>\n",
       "      <td>2002</td>\n",
       "      <td>6.339</td>\n",
       "    </tr>\n",
       "    <tr>\n",
       "      <th>4102</th>\n",
       "      <td>Ghosts of Girlfriends Past</td>\n",
       "      <td>2009</td>\n",
       "      <td>5.900</td>\n",
       "    </tr>\n",
       "    <tr>\n",
       "      <th>2629</th>\n",
       "      <td>Just Like Heaven</td>\n",
       "      <td>2005</td>\n",
       "      <td>6.912</td>\n",
       "    </tr>\n",
       "    <tr>\n",
       "      <th>3884</th>\n",
       "      <td>Mr. Popper's Penguins</td>\n",
       "      <td>2011</td>\n",
       "      <td>5.917</td>\n",
       "    </tr>\n",
       "    <tr>\n",
       "      <th>3054</th>\n",
       "      <td>The Spiderwick Chronicles</td>\n",
       "      <td>2008</td>\n",
       "      <td>6.598</td>\n",
       "    </tr>\n",
       "    <tr>\n",
       "      <th>2899</th>\n",
       "      <td>The Parent Trap</td>\n",
       "      <td>1998</td>\n",
       "      <td>7.142</td>\n",
       "    </tr>\n",
       "    <tr>\n",
       "      <th>4635</th>\n",
       "      <td>Herbie Fully Loaded</td>\n",
       "      <td>2005</td>\n",
       "      <td>5.664</td>\n",
       "    </tr>\n",
       "    <tr>\n",
       "      <th>4457</th>\n",
       "      <td>Just My Luck</td>\n",
       "      <td>2006</td>\n",
       "      <td>6.094</td>\n",
       "    </tr>\n",
       "    <tr>\n",
       "      <th>4429</th>\n",
       "      <td>Vampire Academy</td>\n",
       "      <td>2014</td>\n",
       "      <td>6.358</td>\n",
       "    </tr>\n",
       "    <tr>\n",
       "      <th>1729</th>\n",
       "      <td>Heathers</td>\n",
       "      <td>1989</td>\n",
       "      <td>7.332</td>\n",
       "    </tr>\n",
       "    <tr>\n",
       "      <th>1383</th>\n",
       "      <td>The Edge of Seventeen</td>\n",
       "      <td>2016</td>\n",
       "      <td>7.169</td>\n",
       "    </tr>\n",
       "    <tr>\n",
       "      <th>2029</th>\n",
       "      <td>Easy A</td>\n",
       "      <td>2010</td>\n",
       "      <td>6.805</td>\n",
       "    </tr>\n",
       "    <tr>\n",
       "      <th>3547</th>\n",
       "      <td>Blockers</td>\n",
       "      <td>2018</td>\n",
       "      <td>6.282</td>\n",
       "    </tr>\n",
       "  </tbody>\n",
       "</table>\n",
       "</div>"
      ],
      "text/plain": [
       "                           title  year  vote_average\n",
       "3461               Freaky Friday  2003         6.412\n",
       "3496               Doc Hollywood  1991         6.328\n",
       "4392               The Hot Chick  2002         6.339\n",
       "4102  Ghosts of Girlfriends Past  2009         5.900\n",
       "2629            Just Like Heaven  2005         6.912\n",
       "3884       Mr. Popper's Penguins  2011         5.917\n",
       "3054   The Spiderwick Chronicles  2008         6.598\n",
       "2899             The Parent Trap  1998         7.142\n",
       "4635         Herbie Fully Loaded  2005         5.664\n",
       "4457                Just My Luck  2006         6.094\n",
       "4429             Vampire Academy  2014         6.358\n",
       "1729                    Heathers  1989         7.332\n",
       "1383       The Edge of Seventeen  2016         7.169\n",
       "2029                      Easy A  2010         6.805\n",
       "3547                    Blockers  2018         6.282"
      ]
     },
     "execution_count": 42,
     "metadata": {},
     "output_type": "execute_result"
    }
   ],
   "source": [
    "get_recommendations('Mean Girls').head(15)"
   ]
  },
  {
   "cell_type": "code",
   "execution_count": 43,
   "metadata": {},
   "outputs": [],
   "source": [
    "from flask import Flask, request, jsonify\n",
    "from flask_cors import CORS"
   ]
  },
  {
   "cell_type": "code",
   "execution_count": 44,
   "metadata": {},
   "outputs": [],
   "source": [
    "combined.to_pickle('data/movies.pkl')\n",
    "pd.DataFrame(cosine_sim).to_pickle('data/similarity.pkl')"
   ]
  },
  {
   "cell_type": "code",
   "execution_count": 49,
   "metadata": {},
   "outputs": [],
   "source": [
    "sim = pd.read_pickle('data/movies.pkl')"
   ]
  },
  {
   "cell_type": "code",
   "execution_count": 50,
   "metadata": {},
   "outputs": [
    {
     "data": {
      "text/html": [
       "<div>\n",
       "<style scoped>\n",
       "    .dataframe tbody tr th:only-of-type {\n",
       "        vertical-align: middle;\n",
       "    }\n",
       "\n",
       "    .dataframe tbody tr th {\n",
       "        vertical-align: top;\n",
       "    }\n",
       "\n",
       "    .dataframe thead th {\n",
       "        text-align: right;\n",
       "    }\n",
       "</style>\n",
       "<table border=\"1\" class=\"dataframe\">\n",
       "  <thead>\n",
       "    <tr style=\"text-align: right;\">\n",
       "      <th></th>\n",
       "      <th>index</th>\n",
       "      <th>id</th>\n",
       "      <th>imdb_id</th>\n",
       "      <th>title</th>\n",
       "      <th>vote_average</th>\n",
       "      <th>genres</th>\n",
       "      <th>overview</th>\n",
       "      <th>tagline</th>\n",
       "      <th>year</th>\n",
       "      <th>actors</th>\n",
       "      <th>director</th>\n",
       "      <th>keywords</th>\n",
       "      <th>soup</th>\n",
       "    </tr>\n",
       "  </thead>\n",
       "  <tbody>\n",
       "    <tr>\n",
       "      <th>0</th>\n",
       "      <td>0</td>\n",
       "      <td>858485</td>\n",
       "      <td>tt15327088</td>\n",
       "      <td>Kantara</td>\n",
       "      <td>8.400</td>\n",
       "      <td>[mystery, action, thriller, mystery, action, t...</td>\n",
       "      <td>[shiva, tribal, vagabond, live, mother, hamlet...</td>\n",
       "      <td>[legend]</td>\n",
       "      <td>2022</td>\n",
       "      <td>[rishabshetty, sapthamigowda, kishore, rishabs...</td>\n",
       "      <td>[rishabshetty, rishabshetty]</td>\n",
       "      <td>[]</td>\n",
       "      <td>8 8 mystery action thriller mystery action thr...</td>\n",
       "    </tr>\n",
       "    <tr>\n",
       "      <th>1</th>\n",
       "      <td>1</td>\n",
       "      <td>278</td>\n",
       "      <td>tt0111161</td>\n",
       "      <td>The Shawshank Redemption</td>\n",
       "      <td>8.700</td>\n",
       "      <td>[drama, crime, drama, crime]</td>\n",
       "      <td>[frame, 1940s, doubl, murder, wife, lover, ups...</td>\n",
       "      <td>[fear, hold, prison, hope, set, free]</td>\n",
       "      <td>1994</td>\n",
       "      <td>[timrobbins, morganfreeman, bobgunton, timrobb...</td>\n",
       "      <td>[frankdarabont, frankdarabont]</td>\n",
       "      <td>[prison, corrupt, policebrut, basedonnovelorbo...</td>\n",
       "      <td>9 9 drama crime drama crime frame 1940s doubl ...</td>\n",
       "    </tr>\n",
       "    <tr>\n",
       "      <th>2</th>\n",
       "      <td>2</td>\n",
       "      <td>83651</td>\n",
       "      <td>tt0252487</td>\n",
       "      <td>The Chaos Class</td>\n",
       "      <td>7.960</td>\n",
       "      <td>[comedy, drama, comedy, drama]</td>\n",
       "      <td>[lazi, uneduc, student, most, come, money, sha...</td>\n",
       "      <td>[]</td>\n",
       "      <td>1975</td>\n",
       "      <td>[münirözkul, adilenaşit, kemalsunal, münirözku...</td>\n",
       "      <td>[ertemeğilmez, ertemeğilmez]</td>\n",
       "      <td>[]</td>\n",
       "      <td>8 8 comedy drama comedy drama lazi uneduc stud...</td>\n",
       "    </tr>\n",
       "    <tr>\n",
       "      <th>3</th>\n",
       "      <td>3</td>\n",
       "      <td>238</td>\n",
       "      <td>tt0068646</td>\n",
       "      <td>The Godfather</td>\n",
       "      <td>8.716</td>\n",
       "      <td>[drama, crime, drama, crime]</td>\n",
       "      <td>[span, year, 1945, 1955, chronicl, fiction, it...</td>\n",
       "      <td>[offer, cant, refus]</td>\n",
       "      <td>1972</td>\n",
       "      <td>[marlonbrando, alpacino, jamescaan, marlonbran...</td>\n",
       "      <td>[francisfordcoppola, francisfordcoppola]</td>\n",
       "      <td>[itali, lossoflovedon, loveatfirstsight, based...</td>\n",
       "      <td>9 9 drama crime drama crime span year 1945 195...</td>\n",
       "    </tr>\n",
       "    <tr>\n",
       "      <th>4</th>\n",
       "      <td>4</td>\n",
       "      <td>155</td>\n",
       "      <td>tt0468569</td>\n",
       "      <td>The Dark Knight</td>\n",
       "      <td>8.502</td>\n",
       "      <td>[drama, action, crime, thriller, drama, action...</td>\n",
       "      <td>[batman, rais, stake, war, crime, help, lt, ji...</td>\n",
       "      <td>[welcom, world, without, rule]</td>\n",
       "      <td>2008</td>\n",
       "      <td>[christianbale, heathledger, michaelcaine, chr...</td>\n",
       "      <td>[christophernolan, christophernolan]</td>\n",
       "      <td>[crimefight, secretident, antihero, scarecrow,...</td>\n",
       "      <td>9 9 drama action crime thriller drama action c...</td>\n",
       "    </tr>\n",
       "  </tbody>\n",
       "</table>\n",
       "</div>"
      ],
      "text/plain": [
       "   index      id     imdb_id                     title  vote_average  \\\n",
       "0      0  858485  tt15327088                   Kantara         8.400   \n",
       "1      1     278   tt0111161  The Shawshank Redemption         8.700   \n",
       "2      2   83651   tt0252487           The Chaos Class         7.960   \n",
       "3      3     238   tt0068646             The Godfather         8.716   \n",
       "4      4     155   tt0468569           The Dark Knight         8.502   \n",
       "\n",
       "                                              genres  \\\n",
       "0  [mystery, action, thriller, mystery, action, t...   \n",
       "1                       [drama, crime, drama, crime]   \n",
       "2                     [comedy, drama, comedy, drama]   \n",
       "3                       [drama, crime, drama, crime]   \n",
       "4  [drama, action, crime, thriller, drama, action...   \n",
       "\n",
       "                                            overview  \\\n",
       "0  [shiva, tribal, vagabond, live, mother, hamlet...   \n",
       "1  [frame, 1940s, doubl, murder, wife, lover, ups...   \n",
       "2  [lazi, uneduc, student, most, come, money, sha...   \n",
       "3  [span, year, 1945, 1955, chronicl, fiction, it...   \n",
       "4  [batman, rais, stake, war, crime, help, lt, ji...   \n",
       "\n",
       "                                 tagline  year  \\\n",
       "0                               [legend]  2022   \n",
       "1  [fear, hold, prison, hope, set, free]  1994   \n",
       "2                                     []  1975   \n",
       "3                   [offer, cant, refus]  1972   \n",
       "4         [welcom, world, without, rule]  2008   \n",
       "\n",
       "                                              actors  \\\n",
       "0  [rishabshetty, sapthamigowda, kishore, rishabs...   \n",
       "1  [timrobbins, morganfreeman, bobgunton, timrobb...   \n",
       "2  [münirözkul, adilenaşit, kemalsunal, münirözku...   \n",
       "3  [marlonbrando, alpacino, jamescaan, marlonbran...   \n",
       "4  [christianbale, heathledger, michaelcaine, chr...   \n",
       "\n",
       "                                   director  \\\n",
       "0              [rishabshetty, rishabshetty]   \n",
       "1            [frankdarabont, frankdarabont]   \n",
       "2              [ertemeğilmez, ertemeğilmez]   \n",
       "3  [francisfordcoppola, francisfordcoppola]   \n",
       "4      [christophernolan, christophernolan]   \n",
       "\n",
       "                                            keywords  \\\n",
       "0                                                 []   \n",
       "1  [prison, corrupt, policebrut, basedonnovelorbo...   \n",
       "2                                                 []   \n",
       "3  [itali, lossoflovedon, loveatfirstsight, based...   \n",
       "4  [crimefight, secretident, antihero, scarecrow,...   \n",
       "\n",
       "                                                soup  \n",
       "0  8 8 mystery action thriller mystery action thr...  \n",
       "1  9 9 drama crime drama crime frame 1940s doubl ...  \n",
       "2  8 8 comedy drama comedy drama lazi uneduc stud...  \n",
       "3  9 9 drama crime drama crime span year 1945 195...  \n",
       "4  9 9 drama action crime thriller drama action c...  "
      ]
     },
     "execution_count": 50,
     "metadata": {},
     "output_type": "execute_result"
    }
   ],
   "source": [
    "sim.head()"
   ]
  },
  {
   "cell_type": "code",
   "execution_count": 5,
   "metadata": {},
   "outputs": [],
   "source": [
    "url = \"https://api.themoviedb.org/3/movie/155?api_key=7aa8ed02db282841456234e35f1401a1&language=en-US\"\n",
    "data = requests.get(url)\n",
    "data = data.json()\n",
    "poster_path = data['poster_path']\n",
    "full_path = \"https://image.tmdb.org/t/p/w500/\" + poster_path"
   ]
  },
  {
   "cell_type": "code",
   "execution_count": 6,
   "metadata": {},
   "outputs": [
    {
     "data": {
      "text/plain": [
       "{'adult': False,\n",
       " 'backdrop_path': '/cfT29Im5VDvjE0RpyKOSdCKZal7.jpg',\n",
       " 'belongs_to_collection': {'id': 263,\n",
       "  'name': 'The Dark Knight Collection',\n",
       "  'poster_path': '/hGvOMQBD88jAV0olS2DT1AxreHn.jpg',\n",
       "  'backdrop_path': '/xfKot7lqaiW4XpL5TtDlVBA9ei9.jpg'},\n",
       " 'budget': 185000000,\n",
       " 'genres': [{'id': 18, 'name': 'Drama'},\n",
       "  {'id': 28, 'name': 'Action'},\n",
       "  {'id': 80, 'name': 'Crime'},\n",
       "  {'id': 53, 'name': 'Thriller'}],\n",
       " 'homepage': 'https://www.warnerbros.com/movies/dark-knight/',\n",
       " 'id': 155,\n",
       " 'imdb_id': 'tt0468569',\n",
       " 'original_language': 'en',\n",
       " 'original_title': 'The Dark Knight',\n",
       " 'overview': 'Batman raises the stakes in his war on crime. With the help of Lt. Jim Gordon and District Attorney Harvey Dent, Batman sets out to dismantle the remaining criminal organizations that plague the streets. The partnership proves to be effective, but they soon find themselves prey to a reign of chaos unleashed by a rising criminal mastermind known to the terrified citizens of Gotham as the Joker.',\n",
       " 'popularity': 92.896,\n",
       " 'poster_path': '/qJ2tW6WMUDux911r6m7haRef0WH.jpg',\n",
       " 'production_companies': [{'id': 174,\n",
       "   'logo_path': '/IuAlhI9eVC9Z8UQWOIDdWRKSEJ.png',\n",
       "   'name': 'Warner Bros. Pictures',\n",
       "   'origin_country': 'US'},\n",
       "  {'id': 429,\n",
       "   'logo_path': '/2Tc1P3Ac8M479naPp1kYT3izLS5.png',\n",
       "   'name': 'DC Comics',\n",
       "   'origin_country': 'US'},\n",
       "  {'id': 923,\n",
       "   'logo_path': '/5UQsZrfbfG2dYJbx8DxfoTr2Bvu.png',\n",
       "   'name': 'Legendary Pictures',\n",
       "   'origin_country': 'US'},\n",
       "  {'id': 9996,\n",
       "   'logo_path': '/3tvBqYsBhxWeHlu62SIJ1el93O7.png',\n",
       "   'name': 'Syncopy',\n",
       "   'origin_country': 'GB'},\n",
       "  {'id': 118865,\n",
       "   'logo_path': None,\n",
       "   'name': 'Isobel Griffiths',\n",
       "   'origin_country': 'GB'}],\n",
       " 'production_countries': [{'iso_3166_1': 'GB', 'name': 'United Kingdom'},\n",
       "  {'iso_3166_1': 'US', 'name': 'United States of America'}],\n",
       " 'release_date': '2008-07-14',\n",
       " 'revenue': 1004558444,\n",
       " 'runtime': 152,\n",
       " 'spoken_languages': [{'english_name': 'English',\n",
       "   'iso_639_1': 'en',\n",
       "   'name': 'English'},\n",
       "  {'english_name': 'Mandarin', 'iso_639_1': 'zh', 'name': '普通话'}],\n",
       " 'status': 'Released',\n",
       " 'tagline': 'Welcome to a world without rules.',\n",
       " 'title': 'The Dark Knight',\n",
       " 'video': False,\n",
       " 'vote_average': 8.506,\n",
       " 'vote_count': 28866}"
      ]
     },
     "execution_count": 6,
     "metadata": {},
     "output_type": "execute_result"
    }
   ],
   "source": [
    "data"
   ]
  },
  {
   "cell_type": "code",
   "execution_count": 48,
   "metadata": {},
   "outputs": [
    {
     "name": "stdout",
     "output_type": "stream",
     "text": [
      "1.3.5\n"
     ]
    }
   ],
   "source": [
    "print(pd.__version__)"
   ]
  },
  {
   "cell_type": "code",
   "execution_count": null,
   "metadata": {},
   "outputs": [],
   "source": []
  }
 ],
 "metadata": {
  "kernelspec": {
   "display_name": "Python 3.9.13 ('base')",
   "language": "python",
   "name": "python3"
  },
  "language_info": {
   "codemirror_mode": {
    "name": "ipython",
    "version": 3
   },
   "file_extension": ".py",
   "mimetype": "text/x-python",
   "name": "python",
   "nbconvert_exporter": "python",
   "pygments_lexer": "ipython3",
   "version": "3.9.13 (main, Aug 25 2022, 23:51:50) [MSC v.1916 64 bit (AMD64)]"
  },
  "orig_nbformat": 4,
  "vscode": {
   "interpreter": {
    "hash": "ad2bdc8ecc057115af97d19610ffacc2b4e99fae6737bb82f5d7fb13d2f2c186"
   }
  }
 },
 "nbformat": 4,
 "nbformat_minor": 2
}
